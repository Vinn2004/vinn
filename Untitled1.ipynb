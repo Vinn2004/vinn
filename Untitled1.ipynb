{
  "nbformat": 4,
  "nbformat_minor": 0,
  "metadata": {
    "colab": {
      "name": "Untitled1.ipynb",
      "provenance": [],
      "authorship_tag": "ABX9TyNzmPfdjuh4UGTsrT+B6kfn",
      "include_colab_link": true
    },
    "kernelspec": {
      "name": "python3",
      "display_name": "Python 3"
    },
    "language_info": {
      "name": "python"
    }
  },
  "cells": [
    {
      "cell_type": "markdown",
      "metadata": {
        "id": "view-in-github",
        "colab_type": "text"
      },
      "source": [
        "<a href=\"https://colab.research.google.com/github/Vinn2004/vinn/blob/main/Untitled1.ipynb\" target=\"_parent\"><img src=\"https://colab.research.google.com/assets/colab-badge.svg\" alt=\"Open In Colab\"/></a>"
      ]
    },
    {
      "cell_type": "markdown",
      "metadata": {
        "id": "-o2Ekf_xU7fy"
      },
      "source": [
        "# Programming lesson # 1\n",
        "① Write a program that calculates the addition of all integer numbers from 0 to 2021.\n",
        "\n",
        "$$total=n(n+1)/2$$"
      ]
    },
    {
      "cell_type": "code",
      "metadata": {
        "colab": {
          "base_uri": "https://localhost:8080/"
        },
        "id": "IO5T2N56V46O",
        "outputId": "f5ea68c0-f81b-476f-a701-1ba3d6b3a6fb"
      },
      "source": [
        "# calculate the addition of all integers up to n\n",
        "# using the arthmetic sequence\n",
        "\n",
        "# the input function always gives us a string. I can use int() function to convert to numbers\n",
        "n=int(input(\"Please enter an integer larger than zero\") )\n",
        "\n",
        "total= (n*(n + 1))/2\n",
        "\n",
        "# using the f-string to show the results\n",
        "print(f\"the total is {total}\")\n",
        "# the classic style\n",
        "print(\"The total is\", total)"
      ],
      "execution_count": 8,
      "outputs": [
        {
          "output_type": "stream",
          "name": "stdout",
          "text": [
            "Please enter an integer larger than zero5\n",
            "the total is 15.0\n",
            "The total is 15.0\n"
          ]
        }
      ]
    },
    {
      "cell_type": "markdown",
      "metadata": {
        "id": "4L8Ae1DAcYbW"
      },
      "source": [
        "② Write a program that calculates the value of y when the user enters a integer x\n",
        "\n",
        "$$ y = 2*(x+3) - 3$$"
      ]
    },
    {
      "cell_type": "code",
      "metadata": {
        "colab": {
          "base_uri": "https://localhost:8080/"
        },
        "id": "5wSqF2EFaWTb",
        "outputId": "fdbb40e5-5562-4ba0-a5b8-78d8ec6f05ba"
      },
      "source": [
        "# step 1: get input from user\n",
        "# step 2: convert input which is a string to numbers\n",
        "# step 3: assing input to variable x\n",
        "x=int(input(\"Please enter the value of x\"))\n",
        "\n",
        "# step 4: write the equation for y\n",
        "y= 2 * (x + 3) - 3\n",
        "# step 5: show the result\n",
        "print(\"the total is\",total)\n"
      ],
      "execution_count": 7,
      "outputs": [
        {
          "output_type": "stream",
          "name": "stdout",
          "text": [
            "Please enter the value of x5\n",
            "the total is 36.0\n"
          ]
        }
      ]
    },
    {
      "cell_type": "markdown",
      "metadata": {
        "id": "08rNIl_ggioP"
      },
      "source": [
        "③ Write a program that asks the user for his name and grade and outputs the user’s email address at UWC Isak\n",
        "\n",
        "Example\n",
        "\n",
        "Input: \n",
        "name:john doe\n",
        "\n",
        "grade:10\n",
        "\n",
        "Output:\n",
        "\n",
        "2024.john.doe@uwcisak.jp"
      ]
    },
    {
      "cell_type": "code",
      "metadata": {
        "colab": {
          "base_uri": "https://localhost:8080/"
        },
        "id": "pz6J3Ke5g4aE",
        "outputId": "c90e295c-5a2e-42a5-f24f-d9a81c8178e4"
      },
      "source": [
        "# Step 1: ask user for first name, last name and grade\n",
        "first_name= input(\"Please enter your first name:\")\n",
        "last_name= input( \"please enter your  last name:\")\n",
        "grade= int(input( \"please enter your grade [10,11,12]\")) \n",
        "\n",
        "# step 2\n",
        "# pattern recognition\n",
        "# 2024=>10. you can get this by 2034-10\n",
        "# 2023=>11. you can get this by 2034-11\n",
        "# 2022=>12. you can get this by 2034-12\n",
        "year= 2034-grade\n",
        "\n",
        "# step 3\n",
        "print(f\"Your email address is {year}.{first_name}.{last_name}@uwcisak.jp\")\n",
        "\n"
      ],
      "execution_count": 3,
      "outputs": [
        {
          "output_type": "stream",
          "name": "stdout",
          "text": [
            "Please enter your first name:alvin\n",
            "please enter your  last name:kienga\n",
            "please enter your grade [10,11,12]11\n",
            "Your email address is 2023.alvin.kienga@uwcisak.jp\n"
          ]
        }
      ]
    },
    {
      "cell_type": "markdown",
      "metadata": {
        "id": "HMxI8tpV9R7S"
      },
      "source": [
        "④ Write a program that converts a temperature from Fahrenheit to Celsius. \n",
        "\n",
        "$$x=(fahrenheit number-32)*5/9$$"
      ]
    },
    {
      "cell_type": "code",
      "metadata": {
        "colab": {
          "base_uri": "https://localhost:8080/"
        },
        "id": "VoMXDPm3AQ0u",
        "outputId": "a01373db-0e9d-4d2a-d826-b3a6bdcda690"
      },
      "source": [
        "# step one: assign the fahrenheitnumber\n",
        "# step two: convert fahrenheit into number using int variable\n",
        "fahrenheitnumber=int(input(\"Please enter the value of fahrenheitnumber\"))\n",
        "\n",
        "# step three: write the equation for celsiusnumber\n",
        "x=(fahrenheitnumber-32)*5/9 \n",
        "\n",
        "# step four: show the results \n",
        "print(f\"the x is {x}\")"
      ],
      "execution_count": 14,
      "outputs": [
        {
          "output_type": "stream",
          "name": "stdout",
          "text": [
            "Please enter the value of fahrenheitnumber32\n",
            "the x is 0.0\n"
          ]
        }
      ]
    },
    {
      "cell_type": "markdown",
      "metadata": {
        "id": "zqsk2X34HuNq"
      },
      "source": [
        "⑤ Write a program to convert from miles to kilometers\n",
        "\n",
        "$$x=y*1.60934$$\n",
        "\n",
        "x representing kilometers\n",
        "\n",
        "y representing miles\n"
      ]
    },
    {
      "cell_type": "code",
      "metadata": {
        "colab": {
          "base_uri": "https://localhost:8080/"
        },
        "id": "8U0vSxZEK85K",
        "outputId": "c37322ad-734a-4989-ecff-a3940ebf7a80"
      },
      "source": [
        "# step one: assign value of y\n",
        "# step two: convert to number using int variable\n",
        "y=int(input(\"please enter value of y\"))\n",
        "\n",
        "# step three: write the equation \n",
        "x=y*1.60934\n",
        "\n",
        "# step four: show the results\n",
        "print(f\"the x is {x}\")\n"
      ],
      "execution_count": 15,
      "outputs": [
        {
          "output_type": "stream",
          "name": "stdout",
          "text": [
            "please enter value of y100\n",
            "the x is 160.934\n"
          ]
        }
      ]
    },
    {
      "cell_type": "markdown",
      "metadata": {
        "id": "JqApsH46NLR_"
      },
      "source": [
        "⑥ Write a program that solves the Quadratic Equation for valid inputs a, b, c。\n",
        "\n",
        "$$ax2 + bx + c = 0$$"
      ]
    },
    {
      "cell_type": "code",
      "metadata": {
        "colab": {
          "base_uri": "https://localhost:8080/"
        },
        "id": "7icE2C7dNucT",
        "outputId": "0f66795a-2b26-44f5-e4cf-7a68ab3f6299"
      },
      "source": [
        "# step one: assign the values a, b and c\n",
        "# step two: covert the values into numbers\n",
        "a=int(input(\"please enter the value of a in the equation\"))\n",
        "b=int(input(\"please enter the value of b in the equation\"))\n",
        "c=int(input(\"please enter the value of cin the equation\"))\n",
        "# discriminants\n",
        "d=(b**2)-(4*a*c)\n",
        "print(\"the value of the dicriminants is\",d)\n",
        "sol1= (-b+d**0.5/2*a)\n",
        "sol2= (+b-d**0.5/2*a)\n",
        "print(\"the roots of these quadratic equations are\",sol1,\"and\",sol2)"
      ],
      "execution_count": 1,
      "outputs": [
        {
          "output_type": "stream",
          "name": "stdout",
          "text": [
            "please enter the value of a in the equation1\n",
            "please enter the value of b in the equation2\n",
            "please enter the value of cin the equation3\n",
            "the value of the dicriminants is -8\n",
            "the roots of these quadratic equations are (-2+1.4142135623730951j) and (2-1.4142135623730951j)\n"
          ]
        }
      ]
    },
    {
      "cell_type": "markdown",
      "metadata": {
        "id": "YTmt-IA-WXY6"
      },
      "source": [
        "⑧ Write a program that asks the user for their name, age, nationality and produces a greeting message such as “Welcome John Doe you are 30 years old and a national of Colombia”\n",
        "\n",
        "Example:\n",
        "\n",
        "Input\n",
        "\n",
        "name: Alvin\n",
        "\n",
        "age: 17\n",
        "\n",
        "nationality: tanzania\n",
        "\n",
        "Output\n",
        "\n",
        "Welcome alvin you are 17 years old and a national of tanzania"
      ]
    },
    {
      "cell_type": "code",
      "metadata": {
        "colab": {
          "base_uri": "https://localhost:8080/"
        },
        "id": "_uvhyV4kXQuY",
        "outputId": "b0280618-3ac6-4f46-8f14-b69e4446ebff"
      },
      "source": [
        "# step one: assign the inputs\n",
        "# step two: convert to numbers by using int\n",
        "name=input(\"please enter your name\")\n",
        "age=int(input(\"please enter your age\"))\n",
        "nationality=input(\"please enter your nationality\")\n",
        "\n",
        "# step three: show the results\n",
        "print(f\"welcome {name} you are {age} years old and a national of {nationality}\")\n"
      ],
      "execution_count": 25,
      "outputs": [
        {
          "output_type": "stream",
          "name": "stdout",
          "text": [
            "please enter your namealvin kilenga\n",
            "please enter your age17\n",
            "please enter your nationalitytanzania\n",
            "welcome alvin kilenga you are 17 years old and a national of tanzania\n"
          ]
        }
      ]
    },
    {
      "cell_type": "markdown",
      "metadata": {
        "id": "hYDyQZPNcAAu"
      },
      "source": [
        "⑨ Create one more program that converts between different units.\n",
        "\n",
        "$$x-273.15=y$$\n",
        "\n",
        "x= kelvins\n",
        "\n",
        "y= celsius"
      ]
    },
    {
      "cell_type": "code",
      "metadata": {
        "colab": {
          "base_uri": "https://localhost:8080/"
        },
        "id": "_ID0qqorctfj",
        "outputId": "329e816c-ea6d-47d4-96c8-895a226a5779"
      },
      "source": [
        "# step one: assign the value of x\n",
        "# step two: convert into numbers using int variable\n",
        "x=int(input(\"please enter the value of x\"))\n",
        "\n",
        "# step three: write the equation\n",
        "y=x-273.15\n",
        "\n",
        "# show four: show the results\n",
        "print(f\"the y is {y}\")\n"
      ],
      "execution_count": 1,
      "outputs": [
        {
          "output_type": "stream",
          "name": "stdout",
          "text": [
            "please enter the value of x1000\n",
            "the y is 726.85\n"
          ]
        }
      ]
    }
  ]
}